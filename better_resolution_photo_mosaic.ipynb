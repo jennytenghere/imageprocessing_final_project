{
 "cells": [
  {
   "cell_type": "code",
   "execution_count": 3,
   "metadata": {},
   "outputs": [],
   "source": [
    "# success\n",
    "# bad resolution\n",
    "import os\n",
    "import cv2\n",
    "import numpy as np\n",
    "from tqdm import tqdm"
   ]
  },
  {
   "cell_type": "code",
   "execution_count": 4,
   "metadata": {},
   "outputs": [],
   "source": [
    "# image size = 4000*2252\n",
    "# resize to 4000*2250 in load_image()\n",
    "piece_scale = 50 # need to be the factor of 250\n",
    "\n",
    "original_width = 4000\n",
    "original_height = 2250\n",
    "\n",
    "image_folder = './japan/'\n",
    "target_image_dir = './target/20230824_115144.jpg'"
   ]
  },
  {
   "cell_type": "code",
   "execution_count": 5,
   "metadata": {},
   "outputs": [],
   "source": [
    "def load_images(folder_path, scale=1.0):\n",
    "    resize_height = int(original_height / scale)\n",
    "    resize_width = int(original_width / scale)\n",
    "    \n",
    "    resize_image_list = []\n",
    "    bgr_mean_list = []\n",
    "\n",
    "    files = os.listdir(folder_path)  \n",
    "    for i in tqdm(files):     \n",
    "        image = cv2.imread(folder_path+i)  \n",
    "        # rotate the image \n",
    "        if image.shape[0]  > image.shape[1]:\n",
    "            image = cv2.rotate(image, cv2.ROTATE_90_COUNTERCLOCKWISE)\n",
    "        # resize the image\n",
    "        image = cv2.resize(image[1:2251, 0:4000], (resize_width, resize_height), interpolation=cv2.INTER_AREA)\n",
    "\n",
    "        resize_image_list.append(image)\n",
    "        # bgr_mean_list.append(np.mean(image, axis=(1,0)))\n",
    "\n",
    "    return resize_image_list\n",
    "# return resize images"
   ]
  },
  {
   "cell_type": "code",
   "execution_count": 6,
   "metadata": {},
   "outputs": [
    {
     "name": "stderr",
     "output_type": "stream",
     "text": [
      "100%|██████████| 5213/5213 [08:04<00:00, 10.76it/s]\n"
     ]
    }
   ],
   "source": [
    "resize_image_list = load_images(image_folder, piece_scale)\n"
   ]
  },
  {
   "cell_type": "code",
   "execution_count": 7,
   "metadata": {},
   "outputs": [
    {
     "name": "stdout",
     "output_type": "stream",
     "text": [
      "(2252, 4000, 3)\n"
     ]
    }
   ],
   "source": [
    "target_image = cv2.imread(target_image_dir)\n",
    "print(target_image.shape)\n",
    "target_image = target_image[1:2251, 0:4000] # delete this if you don't need it"
   ]
  },
  {
   "cell_type": "code",
   "execution_count": 8,
   "metadata": {},
   "outputs": [],
   "source": [
    "np.savez('images_list_nome_80_45.npz', *resize_image_list)\n",
    "loaded_data = np.load('images_list_nome_80_45.npz')\n",
    "loaded_images = [loaded_data[key] for key in loaded_data]\n",
    "\n",
    "# print(loaded_images[0].shape)\n",
    "# print(len(loaded_images))\n",
    "print(image.shape)"
   ]
  },
  {
   "cell_type": "code",
   "execution_count": 9,
   "metadata": {},
   "outputs": [
    {
     "name": "stderr",
     "output_type": "stream",
     "text": [
      "100%|██████████| 5213/5213 [00:00<00:00, 22275.69it/s]\n"
     ]
    },
    {
     "name": "stdout",
     "output_type": "stream",
     "text": [
      "5213\n"
     ]
    },
    {
     "name": "stderr",
     "output_type": "stream",
     "text": [
      "100%|██████████| 50/50 [00:10<00:00,  4.69it/s]\n"
     ]
    },
    {
     "data": {
      "text/plain": [
       "True"
      ]
     },
     "execution_count": 9,
     "metadata": {},
     "output_type": "execute_result"
    }
   ],
   "source": [
    "resize_height = int(original_height / piece_scale)\n",
    "resize_width = int(original_width / piece_scale)\n",
    "\n",
    "bgr_mean_list = []\n",
    "for i in tqdm(loaded_images):\n",
    "    bgr_mean_list.append(np.mean(i, axis=(1,0)))\n",
    "print(len(bgr_mean_list))\n",
    "\n",
    "replace = np.zeros((original_height, original_width, 3), np.uint8)\n",
    "\n",
    "for y in tqdm(range(0, original_height, resize_height)):\n",
    "    for x in range(0, original_width, resize_width):\n",
    "        part = target_image[y:y+resize_height, x:x+resize_width]\n",
    "        bgr = np.mean(part, axis=(1,0))\n",
    "        min_distance = 195075\n",
    "        for i in range(len(loaded_images)):\n",
    "            j = loaded_images[i]\n",
    "            k = bgr_mean_list[i]\n",
    "            distance = ((bgr[0]-k[0])**2+\n",
    "                        (bgr[1]-k[1])**2+\n",
    "                        (bgr[2]-k[2])**2)\n",
    "            if distance<min_distance:\n",
    "                min_distance = distance\n",
    "                choice = j  \n",
    "        replace[y:y+resize_height, x:x+resize_width] = choice\n",
    "\n",
    "# 変換後画像の保存\n",
    "cv2.imwrite('replace_5.jpg', replace)  "
   ]
  },
  {
   "cell_type": "code",
   "execution_count": 12,
   "metadata": {},
   "outputs": [
    {
     "name": "stdout",
     "output_type": "stream",
     "text": [
      "PSNR 11.210467534576583\n",
      "(2250, 4000, 3)\n",
      "(2250, 4000, 3)\n",
      "0.077014645198093\n"
     ]
    }
   ],
   "source": [
    "from skimage.metrics import peak_signal_noise_ratio,  structural_similarity\n",
    "original = cv2.imread(target_image_dir)\n",
    "reconstructed = cv2.imread(\"replace_5.jpg\")\n",
    "print(\"PSNR\", peak_signal_noise_ratio(original[1:2251, 0:4000], reconstructed))\n",
    "print(original[1:2251, 0:4000].shape)\n",
    "print(reconstructed.shape)\n",
    "print(structural_similarity(cv2.cvtColor(original[1:2251, 0:4000], cv2.COLOR_BGR2GRAY), cv2.cvtColor(reconstructed, cv2.COLOR_BGR2GRAY)))\n",
    "\n",
    "# 4\n",
    "# PSNR 11.20746530741257\n",
    "# (2250, 4000, 3)\n",
    "# (2250, 4000, 3)\n",
    "# 0.07700302151526704\n"
   ]
  }
 ],
 "metadata": {
  "kernelspec": {
   "display_name": "base",
   "language": "python",
   "name": "python3"
  },
  "language_info": {
   "codemirror_mode": {
    "name": "ipython",
    "version": 3
   },
   "file_extension": ".py",
   "mimetype": "text/x-python",
   "name": "python",
   "nbconvert_exporter": "python",
   "pygments_lexer": "ipython3",
   "version": "3.11.7"
  }
 },
 "nbformat": 4,
 "nbformat_minor": 2
}
