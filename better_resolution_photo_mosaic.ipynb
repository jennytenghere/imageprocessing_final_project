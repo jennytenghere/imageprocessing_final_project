{
 "cells": [
  {
   "cell_type": "code",
   "execution_count": 1,
   "metadata": {},
   "outputs": [],
   "source": [
    "# success\n",
    "import os\n",
    "import cv2\n",
    "import numpy as np\n",
    "from tqdm import tqdm"
   ]
  },
  {
   "cell_type": "code",
   "execution_count": 2,
   "metadata": {},
   "outputs": [],
   "source": [
    "piece_scale = 50 # need to be the factor of 250\n",
    "concat_scale = 25\n",
    "\n",
    "original_width = 4000\n",
    "original_height = 2250\n",
    "\n",
    "image_folder = './japan/'\n",
    "target_image_dir = './target/20230824_115144.jpg'"
   ]
  },
  {
   "cell_type": "code",
   "execution_count": 3,
   "metadata": {},
   "outputs": [
    {
     "name": "stdout",
     "output_type": "stream",
     "text": [
      "(2252, 4000, 3)\n"
     ]
    }
   ],
   "source": [
    "target_image = cv2.imread(target_image_dir)\n",
    "print(target_image.shape)\n",
    "target_image = target_image[1:2251, 0:4000]"
   ]
  },
  {
   "cell_type": "code",
   "execution_count": 4,
   "metadata": {},
   "outputs": [],
   "source": [
    "# np.savez('images_list_nome_80_45.npz', *resize_image_list)\n",
    "loaded_data = np.load('images_list_nome_80_45.npz')\n",
    "loaded_images = [loaded_data[key] for key in loaded_data]"
   ]
  },
  {
   "cell_type": "code",
   "execution_count": 28,
   "metadata": {},
   "outputs": [
    {
     "name": "stderr",
     "output_type": "stream",
     "text": [
      "100%|██████████| 5213/5213 [00:00<00:00, 22306.78it/s]\n"
     ]
    },
    {
     "name": "stdout",
     "output_type": "stream",
     "text": [
      "5213\n"
     ]
    },
    {
     "name": "stderr",
     "output_type": "stream",
     "text": [
      "100%|██████████| 50/50 [00:10<00:00,  4.81it/s]\n"
     ]
    }
   ],
   "source": [
    "resize_height = int(original_height / piece_scale)\n",
    "resize_width = int(original_width / piece_scale)\n",
    "\n",
    "bgr_mean_list = []\n",
    "for i in tqdm(loaded_images):\n",
    "    bgr_mean_list.append(np.mean(i, axis=(1,0)))\n",
    "print(len(bgr_mean_list))\n",
    "\n",
    "replace = np.zeros((original_height, original_width, 3), np.uint8)\n",
    "\n",
    "selected_image = []\n",
    "\n",
    "for y in tqdm(range(0, original_height, resize_height)):\n",
    "    for x in range(0, original_width, resize_width):\n",
    "        part = target_image[y:y+resize_height, x:x+resize_width]\n",
    "        bgr = np.mean(part, axis=(1,0))\n",
    "        min_distance = 195075\n",
    "        for i in range(len(loaded_images)):\n",
    "            j = loaded_images[i]\n",
    "            k = bgr_mean_list[i]\n",
    "            distance = ((bgr[0]-k[0])**2+\n",
    "                        (bgr[1]-k[1])**2+\n",
    "                        (bgr[2]-k[2])**2)\n",
    "            if distance<min_distance:\n",
    "                min_distance = distance\n",
    "                choice = j\n",
    "                index = i \n",
    "        selected_image.append(index) \n",
    "        #replace[y:y+resize_height, x:x+resize_width] = choice"
   ]
  },
  {
   "cell_type": "code",
   "execution_count": 40,
   "metadata": {},
   "outputs": [],
   "source": [
    "def concat_tile_image(files, image_list, n_row=10, n_col=10, WIDTH = 4000, HEIGHT=2250, scale=1.0):\n",
    "    height = int(HEIGHT/scale)\n",
    "    width = int(WIDTH/scale)\n",
    "    concat_list = []\n",
    "\n",
    "    for idx, image_index in enumerate(image_list):\n",
    "        # print(idx)\n",
    "        image = files[image_index]\n",
    "        image = cv2.imread(image_folder+image)\n",
    "        # print(image.shape)\n",
    "        image = cv2.resize(image[1:2251, 0:4000], (width, height), interpolation=cv2.INTER_AREA)\n",
    "        # print(image.shape)\n",
    "\n",
    "        if idx % n_col == 0:\n",
    "            row_list = [image]\n",
    "        else:\n",
    "            row_list = row_list + [image]\n",
    "            if idx % n_col == (n_col -1):\n",
    "                row_img = np.hstack(row_list)\n",
    "                # cv2.imshow('a', row_img)\n",
    "                # cv2.waitKey(0)\n",
    "                # cv2.destroyAllWindows()\n",
    "                concat_list = concat_list +[row_img]\n",
    "        if idx == len(image_list) - 1:\n",
    "            if idx % n_col < n_col -1:\n",
    "                n_blank = n_col - (len(image_list) % n_col)\n",
    "                row_list = row_list + [np.zeros( (width, height, 3) )] * n_blank\n",
    "                row_img = np.hstack(row_list)\n",
    "                concat_list = concat_list + [row_img]            \n",
    "        if idx >= n_row * n_col:\n",
    "            break\n",
    "    concat_img = np.vstack(concat_list)\n",
    "    cv2.imwrite('replace_6.jpg', concat_img)  "
   ]
  },
  {
   "cell_type": "code",
   "execution_count": 41,
   "metadata": {},
   "outputs": [],
   "source": [
    "files = os.listdir(image_folder) \n",
    "concat_tile_image(files, selected_image, 50, 50, original_width, original_height, 25)\n",
    "# concat_tile_image(mosaic_list_sorted, n_col=n_col, n_row=n_row, scale=piece_scale)"
   ]
  }
 ],
 "metadata": {
  "kernelspec": {
   "display_name": "base",
   "language": "python",
   "name": "python3"
  },
  "language_info": {
   "codemirror_mode": {
    "name": "ipython",
    "version": 3
   },
   "file_extension": ".py",
   "mimetype": "text/x-python",
   "name": "python",
   "nbconvert_exporter": "python",
   "pygments_lexer": "ipython3",
   "version": "3.11.7"
  }
 },
 "nbformat": 4,
 "nbformat_minor": 2
}
