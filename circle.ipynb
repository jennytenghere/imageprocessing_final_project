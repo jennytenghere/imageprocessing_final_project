{
 "cells": [
  {
   "cell_type": "code",
   "execution_count": null,
   "metadata": {},
   "outputs": [
    {
     "name": "stderr",
     "output_type": "stream",
     "text": [
      " 10%|█         | 1/10 [00:11<01:46, 11.86s/it]"
     ]
    },
    {
     "name": "stdout",
     "output_type": "stream",
     "text": [
      "3999 2251 765 [0, 0, 0]\n",
      "(1021, -48) (1121, 52)\n"
     ]
    }
   ],
   "source": [
    "# bad, only for testing\n",
    "from PIL import Image, ImageDraw\n",
    "from colorsys import rgb_to_hsv, hsv_to_rgb\n",
    "from tqdm import tqdm\n",
    "\n",
    "img_path = 'target/20230824_115144.jpg'\n",
    "img = Image.open(img_path)\n",
    "\n",
    "dot_size = 100\n",
    "\n",
    "# halftone_img = Image.new(\"RGB\", (img.width // dot_size*dot_size, img.height // dot_size*dot_size), \"white\")\n",
    "halftone_img = Image.new(\"RGB\", (img.width, img.height), \"white\")\n",
    "draw = ImageDraw.Draw(halftone_img)\n",
    "\n",
    "# resized_img = img.resize((img.width // dot_size, img.height // dot_size))\n",
    "resized_img = img\n",
    "\n",
    "\n",
    "for i in tqdm(range(10)):\n",
    "    this_y = 0\n",
    "    this_x = 0\n",
    "    max_different = 0\n",
    "    this_color = [0,0,0]\n",
    "    # print(halftone_img.size)\n",
    "    tmp_img = halftone_img\n",
    "    # tmp_img = halftone_img.resize((halftone_img.width // dot_size, halftone_img.height // dot_size))\n",
    "    # print(tmp_img.size)\n",
    "    # print(resized_img.size)\n",
    "    for y in range(resized_img.height):\n",
    "        for x in range(resized_img.width):\n",
    "            r, g, b = resized_img.getpixel((x, y))\n",
    "            rr, gg, bb = tmp_img.getpixel((x,y))\n",
    "            if (abs(rr+bb+gg-r-b-g)>max_different):\n",
    "                # print(x, y, resized_img.getpixel((x, y)), tmp_img.getpixel((x,y)), abs(rr+bb+gg-r-b-g))\n",
    "                max_different = abs(rr+bb+gg-r-b-g)\n",
    "                this_color = list(resized_img.getpixel((x, y)))\n",
    "                this_x = x\n",
    "                this_y = y\n",
    "    print(x, y, max_different, this_color)    \n",
    "    radius = 50\n",
    "    # left_up = (this_x * dot_size + dot_size / 2 - radius, this_y * dot_size + dot_size / 2 - radius)\n",
    "    # right_down = (this_x * dot_size + dot_size / 2 + radius, this_y * dot_size + dot_size / 2 + radius)\n",
    "    left_up = (this_x - radius, this_y - radius)\n",
    "    right_down = (this_x + radius, this_y  + radius)\n",
    "    draw.ellipse([left_up, right_down], fill=tuple(this_color), outline=tuple(this_color))\n",
    "    print(left_up, right_down)\n",
    "    #halftone_img.show()\n",
    "\n",
    "halftone_img.show()\n",
    "halftone_img.save(\"test.jpg\")\n"
   ]
  },
  {
   "cell_type": "code",
   "execution_count": 8,
   "metadata": {},
   "outputs": [
    {
     "name": "stderr",
     "output_type": "stream",
     "text": [
      "100%|██████████| 1500/1500 [05:11<00:00,  4.82it/s]\n",
      "100%|██████████| 5000/5000 [18:08<00:00,  4.59it/s]\n"
     ]
    }
   ],
   "source": [
    "# use this, 1500 iteration, radius: 10~500\n",
    "from PIL import Image, ImageDraw, ImageChops\n",
    "from colorsys import rgb_to_hsv, hsv_to_rgb\n",
    "from tqdm import tqdm\n",
    "import random\n",
    "import numpy as np\n",
    "\n",
    "img_path = 'target/20230824_115144.jpg'\n",
    "img = Image.open(img_path)\n",
    "\n",
    "halftone_img = Image.new(\"RGB\", (img.width, img.height), \"white\")\n",
    "\n",
    "tmp_image = halftone_img.copy()\n",
    "draw = ImageDraw.Draw(halftone_img)\n",
    "draw_tmp = ImageDraw.Draw(tmp_image)\n",
    "\n",
    "resized_img = img\n",
    "\n",
    "for i in tqdm(range(1500)):\n",
    "    tmp_image = halftone_img.copy()\n",
    "    draw_tmp = ImageDraw.Draw(tmp_image)\n",
    "    x = random.randint(0, resized_img.width)\n",
    "    y = random.randint(0, resized_img.height)\n",
    "    radius = random.randint(10, max(50,500-i//2))\n",
    "    left_up = (x - radius, y - radius)\n",
    "    right_down = (x + radius, y  + radius)\n",
    "    origin_different = np.mean(np.array(ImageChops.difference(resized_img.convert(\"RGB\"), tmp_image.convert(\"RGB\"))))\n",
    "    if(x - radius >= 0 and y-radius >=0 and x +radius < resized_img.width and y+radius < resized_img.height):\n",
    "        draw_tmp.ellipse([left_up, right_down], fill=resized_img.getpixel((x, y)), outline=resized_img.getpixel((x, y)))\n",
    "        different = np.mean(np.array(ImageChops.difference(resized_img.convert(\"RGB\"), tmp_image.convert(\"RGB\"))))\n",
    "        if different < origin_different:\n",
    "            draw.ellipse([left_up, right_down], fill=resized_img.getpixel((x, y)), outline=resized_img.getpixel((x, y)))\n",
    "        #else:\n",
    "            #print(\"worse\")\n",
    "\n",
    "\n",
    "halftone_img.show()\n",
    "halftone_img.save(\"test3.jpg\")\n"
   ]
  },
  {
   "cell_type": "code",
   "execution_count": null,
   "metadata": {},
   "outputs": [],
   "source": [
    "# use this, 5000 iteration, radius: 10~500\n",
    "from PIL import Image, ImageDraw, ImageChops\n",
    "from colorsys import rgb_to_hsv, hsv_to_rgb\n",
    "from tqdm import tqdm\n",
    "import random\n",
    "import numpy as np\n",
    "\n",
    "img_path = 'target/20230824_115144.jpg'\n",
    "img = Image.open(img_path)\n",
    "\n",
    "halftone_img = Image.new(\"RGB\", (img.width, img.height), \"white\")\n",
    "\n",
    "tmp_image = halftone_img.copy()\n",
    "draw = ImageDraw.Draw(halftone_img)\n",
    "draw_tmp = ImageDraw.Draw(tmp_image)\n",
    "\n",
    "resized_img = img\n",
    "\n",
    "\n",
    "for i in tqdm(range(5000)):\n",
    "    tmp_image = halftone_img.copy()\n",
    "    draw_tmp = ImageDraw.Draw(tmp_image)\n",
    "    x = random.randint(0, resized_img.width)\n",
    "    y = random.randint(0, resized_img.height)\n",
    "\n",
    "    radius = random.randint(10, max(50,500-i//2))\n",
    "    left_up = (x - radius, y - radius)\n",
    "    right_down = (x + radius, y  + radius)\n",
    "\n",
    "    origin_different = np.mean(np.array(ImageChops.difference(resized_img.convert(\"RGB\"), tmp_image.convert(\"RGB\"))))\n",
    "    if(x - radius >= 0 and y-radius >=0 and x +radius < resized_img.width and y+radius < resized_img.height):\n",
    "        draw_tmp.ellipse([left_up, right_down], fill=resized_img.getpixel((x, y)), outline=resized_img.getpixel((x, y)))\n",
    "        different = np.mean(np.array(ImageChops.difference(resized_img.convert(\"RGB\"), tmp_image.convert(\"RGB\"))))\n",
    "        if different < origin_different:\n",
    "            draw.ellipse([left_up, right_down], fill=resized_img.getpixel((x, y)), outline=resized_img.getpixel((x, y)))\n",
    "        #else:\n",
    "            #print(\"worse\")\n",
    "\n",
    "\n",
    "halftone_img.show()\n",
    "halftone_img.save(\"test4.jpg\")"
   ]
  },
  {
   "cell_type": "code",
   "execution_count": 10,
   "metadata": {},
   "outputs": [
    {
     "name": "stderr",
     "output_type": "stream",
     "text": [
      "100%|██████████| 5000/5000 [17:52<00:00,  4.66it/s]\n"
     ]
    }
   ],
   "source": [
    "# use this, 5000 iteration, radius: 30~500\n",
    "from PIL import Image, ImageDraw, ImageChops\n",
    "from colorsys import rgb_to_hsv, hsv_to_rgb\n",
    "from tqdm import tqdm\n",
    "import random\n",
    "import numpy as np\n",
    "\n",
    "img_path = 'target/20230824_115144.jpg'\n",
    "img = Image.open(img_path)\n",
    "\n",
    "halftone_img = Image.new(\"RGB\", (img.width, img.height), \"white\")\n",
    "\n",
    "tmp_image = halftone_img.copy()\n",
    "draw = ImageDraw.Draw(halftone_img)\n",
    "draw_tmp = ImageDraw.Draw(tmp_image)\n",
    "\n",
    "# resized_img = img.resize((img.width // dot_size, img.height // dot_size))\n",
    "resized_img = img\n",
    "\n",
    "\n",
    "for i in tqdm(range(5000)):\n",
    "    tmp_image = halftone_img.copy()\n",
    "    draw_tmp = ImageDraw.Draw(tmp_image)\n",
    "    x = random.randint(0, resized_img.width)\n",
    "    y = random.randint(0, resized_img.height)\n",
    "    # print(\"x,y\", x, y)\n",
    "    radius = random.randint(30, max(100,500-i//3))\n",
    "    left_up = (x - radius, y - radius)\n",
    "    right_down = (x + radius, y  + radius)\n",
    "    # print(left_up, right_down)\n",
    "    origin_different = np.mean(np.array(ImageChops.difference(resized_img.convert(\"RGB\"), tmp_image.convert(\"RGB\"))))\n",
    "    if(x - radius >= 0 and y-radius >=0 and x +radius < resized_img.width and y+radius < resized_img.height):\n",
    "        draw_tmp.ellipse([left_up, right_down], fill=resized_img.getpixel((x, y)), outline=resized_img.getpixel((x, y)))\n",
    "        # tmp_image.show()\n",
    "        # halftone_img.show()\n",
    "        different = np.mean(np.array(ImageChops.difference(resized_img.convert(\"RGB\"), tmp_image.convert(\"RGB\"))))\n",
    "        #print(\"different\", different, origin_different)\n",
    "        if different < origin_different:\n",
    "            draw.ellipse([left_up, right_down], fill=resized_img.getpixel((x, y)), outline=resized_img.getpixel((x, y)))\n",
    "        #else:\n",
    "            #print(\"worse\")\n",
    "halftone_img.show()\n",
    "halftone_img.save(\"test6.jpg\")"
   ]
  },
  {
   "cell_type": "code",
   "execution_count": 2,
   "metadata": {},
   "outputs": [
    {
     "name": "stderr",
     "output_type": "stream",
     "text": [
      "  3%|▎         | 318/10000 [01:08<34:55,  4.62it/s]\n"
     ]
    },
    {
     "ename": "KeyboardInterrupt",
     "evalue": "",
     "output_type": "error",
     "traceback": [
      "\u001b[1;31m---------------------------------------------------------------------------\u001b[0m",
      "\u001b[1;31mKeyboardInterrupt\u001b[0m                         Traceback (most recent call last)",
      "Cell \u001b[1;32mIn[2], line 32\u001b[0m\n\u001b[0;32m     30\u001b[0m right_down \u001b[38;5;241m=\u001b[39m (x \u001b[38;5;241m+\u001b[39m radius, y  \u001b[38;5;241m+\u001b[39m radius)\n\u001b[0;32m     31\u001b[0m \u001b[38;5;66;03m# print(left_up, right_down)\u001b[39;00m\n\u001b[1;32m---> 32\u001b[0m origin_different \u001b[38;5;241m=\u001b[39m np\u001b[38;5;241m.\u001b[39mmean(np\u001b[38;5;241m.\u001b[39marray(ImageChops\u001b[38;5;241m.\u001b[39mdifference(resized_img\u001b[38;5;241m.\u001b[39mconvert(\u001b[38;5;124m\"\u001b[39m\u001b[38;5;124mRGB\u001b[39m\u001b[38;5;124m\"\u001b[39m), tmp_image\u001b[38;5;241m.\u001b[39mconvert(\u001b[38;5;124m\"\u001b[39m\u001b[38;5;124mRGB\u001b[39m\u001b[38;5;124m\"\u001b[39m))))\n\u001b[0;32m     33\u001b[0m \u001b[38;5;28;01mif\u001b[39;00m(x \u001b[38;5;241m-\u001b[39m radius \u001b[38;5;241m>\u001b[39m\u001b[38;5;241m=\u001b[39m \u001b[38;5;241m0\u001b[39m \u001b[38;5;129;01mand\u001b[39;00m y\u001b[38;5;241m-\u001b[39mradius \u001b[38;5;241m>\u001b[39m\u001b[38;5;241m=\u001b[39m\u001b[38;5;241m0\u001b[39m \u001b[38;5;129;01mand\u001b[39;00m x \u001b[38;5;241m+\u001b[39mradius \u001b[38;5;241m<\u001b[39m resized_img\u001b[38;5;241m.\u001b[39mwidth \u001b[38;5;129;01mand\u001b[39;00m y\u001b[38;5;241m+\u001b[39mradius \u001b[38;5;241m<\u001b[39m resized_img\u001b[38;5;241m.\u001b[39mheight):\n\u001b[0;32m     34\u001b[0m     draw_tmp\u001b[38;5;241m.\u001b[39mellipse([left_up, right_down], fill\u001b[38;5;241m=\u001b[39mresized_img\u001b[38;5;241m.\u001b[39mgetpixel((x, y)), outline\u001b[38;5;241m=\u001b[39mresized_img\u001b[38;5;241m.\u001b[39mgetpixel((x, y)))\n",
      "File \u001b[1;32mc:\\Users\\leno0\\anaconda3\\Lib\\site-packages\\numpy\\core\\fromnumeric.py:3504\u001b[0m, in \u001b[0;36mmean\u001b[1;34m(a, axis, dtype, out, keepdims, where)\u001b[0m\n\u001b[0;32m   3501\u001b[0m     \u001b[38;5;28;01melse\u001b[39;00m:\n\u001b[0;32m   3502\u001b[0m         \u001b[38;5;28;01mreturn\u001b[39;00m mean(axis\u001b[38;5;241m=\u001b[39maxis, dtype\u001b[38;5;241m=\u001b[39mdtype, out\u001b[38;5;241m=\u001b[39mout, \u001b[38;5;241m*\u001b[39m\u001b[38;5;241m*\u001b[39mkwargs)\n\u001b[1;32m-> 3504\u001b[0m \u001b[38;5;28;01mreturn\u001b[39;00m _methods\u001b[38;5;241m.\u001b[39m_mean(a, axis\u001b[38;5;241m=\u001b[39maxis, dtype\u001b[38;5;241m=\u001b[39mdtype,\n\u001b[0;32m   3505\u001b[0m                       out\u001b[38;5;241m=\u001b[39mout, \u001b[38;5;241m*\u001b[39m\u001b[38;5;241m*\u001b[39mkwargs)\n",
      "File \u001b[1;32mc:\\Users\\leno0\\anaconda3\\Lib\\site-packages\\numpy\\core\\_methods.py:118\u001b[0m, in \u001b[0;36m_mean\u001b[1;34m(a, axis, dtype, out, keepdims, where)\u001b[0m\n\u001b[0;32m    115\u001b[0m         dtype \u001b[38;5;241m=\u001b[39m mu\u001b[38;5;241m.\u001b[39mdtype(\u001b[38;5;124m'\u001b[39m\u001b[38;5;124mf4\u001b[39m\u001b[38;5;124m'\u001b[39m)\n\u001b[0;32m    116\u001b[0m         is_float16_result \u001b[38;5;241m=\u001b[39m \u001b[38;5;28;01mTrue\u001b[39;00m\n\u001b[1;32m--> 118\u001b[0m ret \u001b[38;5;241m=\u001b[39m umr_sum(arr, axis, dtype, out, keepdims, where\u001b[38;5;241m=\u001b[39mwhere)\n\u001b[0;32m    119\u001b[0m \u001b[38;5;28;01mif\u001b[39;00m \u001b[38;5;28misinstance\u001b[39m(ret, mu\u001b[38;5;241m.\u001b[39mndarray):\n\u001b[0;32m    120\u001b[0m     \u001b[38;5;28;01mwith\u001b[39;00m _no_nep50_warning():\n",
      "\u001b[1;31mKeyboardInterrupt\u001b[0m: "
     ]
    }
   ],
   "source": [
    "# use this, 10000 iteration, radius: 10~500\n",
    "from PIL import Image, ImageDraw, ImageChops\n",
    "from colorsys import rgb_to_hsv, hsv_to_rgb\n",
    "from tqdm import tqdm\n",
    "import random\n",
    "import numpy as np\n",
    "\n",
    "img_path = 'target/20230824_115144.jpg'\n",
    "img = Image.open(img_path)\n",
    "\n",
    "halftone_img = Image.new(\"RGB\", (img.width, img.height), \"white\")\n",
    "\n",
    "tmp_image = halftone_img.copy()\n",
    "draw = ImageDraw.Draw(halftone_img)\n",
    "draw_tmp = ImageDraw.Draw(tmp_image)\n",
    "\n",
    "resized_img = img\n",
    "\n",
    "for i in tqdm(range(10000)):\n",
    "    tmp_image = halftone_img.copy()\n",
    "    draw_tmp = ImageDraw.Draw(tmp_image)\n",
    "    x = random.randint(0, resized_img.width)\n",
    "    y = random.randint(0, resized_img.height)\n",
    "    radius = random.randint(10, max(50,500-i//2))\n",
    "    left_up = (x - radius, y - radius)\n",
    "    right_down = (x + radius, y  + radius)\n",
    "    origin_different = np.mean(np.array(ImageChops.difference(resized_img.convert(\"RGB\"), tmp_image.convert(\"RGB\"))))\n",
    "    if(x - radius >= 0 and y-radius >=0 and x +radius < resized_img.width and y+radius < resized_img.height):\n",
    "        draw_tmp.ellipse([left_up, right_down], fill=resized_img.getpixel((x, y)), outline=resized_img.getpixel((x, y)))\n",
    "\n",
    "        different = np.mean(np.array(ImageChops.difference(resized_img.convert(\"RGB\"), tmp_image.convert(\"RGB\"))))\n",
    "        if different < origin_different:\n",
    "            draw.ellipse([left_up, right_down], fill=resized_img.getpixel((x, y)), outline=resized_img.getpixel((x, y)))\n",
    "        #else:\n",
    "            #print(\"worse\")\n",
    "\n",
    "\n",
    "halftone_img.show()\n",
    "halftone_img.save(\"test7.jpg\")\n"
   ]
  },
  {
   "cell_type": "code",
   "execution_count": 6,
   "metadata": {},
   "outputs": [
    {
     "name": "stderr",
     "output_type": "stream",
     "text": [
      "  0%|          | 0/5000 [00:00<?, ?it/s]"
     ]
    },
    {
     "name": "stderr",
     "output_type": "stream",
     "text": [
      "100%|██████████| 5000/5000 [18:10<00:00,  4.58it/s]\n"
     ]
    }
   ],
   "source": [
    "# use this, square, 5000 iteration, radius: 10~500\n",
    "from PIL import Image, ImageDraw, ImageChops\n",
    "from colorsys import rgb_to_hsv, hsv_to_rgb\n",
    "from tqdm import tqdm\n",
    "import random\n",
    "import numpy as np\n",
    "\n",
    "img_path = 'target/20230824_115144.jpg'\n",
    "img = Image.open(img_path)\n",
    "\n",
    "halftone_img = Image.new(\"RGB\", (img.width, img.height), \"white\")\n",
    "\n",
    "tmp_image = halftone_img.copy()\n",
    "draw = ImageDraw.Draw(halftone_img)\n",
    "draw_tmp = ImageDraw.Draw(tmp_image)\n",
    "\n",
    "resized_img = img\n",
    "\n",
    "for i in tqdm(range(5000)):\n",
    "    tmp_image = halftone_img.copy()\n",
    "    draw_tmp = ImageDraw.Draw(tmp_image)\n",
    "    x = random.randint(0, resized_img.width)\n",
    "    y = random.randint(0, resized_img.height)\n",
    "    radius = random.randint(10, max(50,500-i//2))\n",
    "    left_up = (x - radius, y - radius)\n",
    "    right_down = (x + radius, y  + radius)\n",
    "    origin_different = np.mean(np.array(ImageChops.difference(resized_img.convert(\"RGB\"), tmp_image.convert(\"RGB\"))))\n",
    "    if(x - radius >= 0 and y-radius >=0 and x +radius < resized_img.width and y+radius < resized_img.height):\n",
    "        draw_tmp.rectangle([left_up, right_down], fill=resized_img.getpixel((x, y)), outline=resized_img.getpixel((x, y)))\n",
    "        different = np.mean(np.array(ImageChops.difference(resized_img.convert(\"RGB\"), tmp_image.convert(\"RGB\"))))\n",
    "        if different < origin_different:\n",
    "            draw.rectangle([left_up, right_down], fill=resized_img.getpixel((x, y)), outline=resized_img.getpixel((x, y)))\n",
    "        #else:\n",
    "            #print(\"worse\")\n",
    "\n",
    "\n",
    "\n",
    "halftone_img.show()\n",
    "halftone_img.save(\"test9.jpg\")\n"
   ]
  }
 ],
 "metadata": {
  "kernelspec": {
   "display_name": "base",
   "language": "python",
   "name": "python3"
  },
  "language_info": {
   "codemirror_mode": {
    "name": "ipython",
    "version": 3
   },
   "file_extension": ".py",
   "mimetype": "text/x-python",
   "name": "python",
   "nbconvert_exporter": "python",
   "pygments_lexer": "ipython3",
   "version": "3.11.7"
  }
 },
 "nbformat": 4,
 "nbformat_minor": 2
}
