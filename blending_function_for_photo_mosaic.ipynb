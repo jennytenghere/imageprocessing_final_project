{
 "cells": [
  {
   "cell_type": "code",
   "execution_count": 6,
   "metadata": {},
   "outputs": [
    {
     "data": {
      "text/plain": [
       "True"
      ]
     },
     "execution_count": 6,
     "metadata": {},
     "output_type": "execute_result"
    }
   ],
   "source": [
    "import cv2\n",
    "\n",
    "original = cv2.imread('./target/20230824_115144.jpg')\n",
    "reconstructed = cv2.imread(\"replace_4.jpg\")\n",
    "\n",
    "combine = cv2.addWeighted(original[1:2251, 0:4000], 0.1, reconstructed, 0.9, 0)\n",
    "cv2.imwrite('combine1.jpg', combine)  \n",
    "\n",
    "combine = cv2.addWeighted(original[1:2251, 0:4000], 0.2, reconstructed, 0.8, 0)\n",
    "cv2.imwrite('combine2.jpg', combine)  \n",
    "\n",
    "combine = cv2.addWeighted(original[1:2251, 0:4000], 0.3, reconstructed, 0.7, 0)\n",
    "cv2.imwrite('combine3.jpg', combine)  \n",
    "\n",
    "combine = cv2.addWeighted(original[1:2251, 0:4000], 0.4, reconstructed, 0.6, 0)\n",
    "cv2.imwrite('combine4.jpg', combine)  \n",
    "\n",
    "combine = cv2.addWeighted(original[1:2251, 0:4000], 0.5, reconstructed, 0.5, 0)\n",
    "cv2.imwrite('combine5.jpg', combine)  \n",
    "\n",
    "# cv2.imshow('combine', combine)\n",
    "# cv2.waitKey(0)\n"
   ]
  }
 ],
 "metadata": {
  "kernelspec": {
   "display_name": "base",
   "language": "python",
   "name": "python3"
  },
  "language_info": {
   "codemirror_mode": {
    "name": "ipython",
    "version": 3
   },
   "file_extension": ".py",
   "mimetype": "text/x-python",
   "name": "python",
   "nbconvert_exporter": "python",
   "pygments_lexer": "ipython3",
   "version": "3.11.7"
  }
 },
 "nbformat": 4,
 "nbformat_minor": 2
}
