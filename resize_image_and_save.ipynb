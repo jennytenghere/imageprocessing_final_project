{
 "cells": [
  {
   "cell_type": "code",
   "execution_count": 1,
   "metadata": {},
   "outputs": [],
   "source": [
    "import os\n",
    "import cv2\n",
    "import numpy as np\n",
    "from tqdm import tqdm"
   ]
  },
  {
   "cell_type": "code",
   "execution_count": 2,
   "metadata": {},
   "outputs": [],
   "source": [
    "def load_images(folder_path, scale=1.0, original_width = 4000, original_height = 2250):\n",
    "    resize_height = int(original_height / scale)\n",
    "    resize_width = int(original_width / scale)\n",
    "    \n",
    "    resize_image_list = []\n",
    "    bgr_mean_list = []\n",
    "\n",
    "    files = os.listdir(folder_path)  \n",
    "    for i in tqdm(files):     \n",
    "        image = cv2.imread(folder_path+i)  \n",
    "        # rotate the image \n",
    "        if image.shape[0]  > image.shape[1]:\n",
    "            image = cv2.rotate(image, cv2.ROTATE_90_COUNTERCLOCKWISE)\n",
    "        # resize the image\n",
    "        image = cv2.resize(image[1:2251, 0:4000], (resize_width, resize_height), interpolation=cv2.INTER_LINEAR)\n",
    "\n",
    "        resize_image_list.append(image)\n",
    "        # bgr_mean_list.append(np.mean(image, axis=(1,0)))\n",
    "\n",
    "    return resize_image_list"
   ]
  },
  {
   "cell_type": "code",
   "execution_count": 3,
   "metadata": {},
   "outputs": [
    {
     "name": "stderr",
     "output_type": "stream",
     "text": [
      "  0%|          | 0/5432 [00:00<?, ?it/s]"
     ]
    },
    {
     "name": "stderr",
     "output_type": "stream",
     "text": [
      "100%|██████████| 5432/5432 [07:13<00:00, 12.54it/s]\n"
     ]
    }
   ],
   "source": [
    "piece_scale = 50 # need to be the factor of 250\n",
    "\n",
    "# original image size = 4000*2252\n",
    "original_width = 4000\n",
    "original_height = 2250\n",
    "\n",
    "image_folder = './japan/'\n",
    "# target_image_dir = './target/20230824_115144.jpg'\n",
    "resize_image_list = load_images(image_folder, piece_scale, original_width, original_height)\n",
    "np.savez('resize_50.npz', *resize_image_list)\n",
    "# loaded_data = np.load('images_list_nome_80_45.npz')\n",
    "# loaded_images = [loaded_data[key] for key in loaded_data]"
   ]
  }
 ],
 "metadata": {
  "kernelspec": {
   "display_name": "base",
   "language": "python",
   "name": "python3"
  },
  "language_info": {
   "codemirror_mode": {
    "name": "ipython",
    "version": 3
   },
   "file_extension": ".py",
   "mimetype": "text/x-python",
   "name": "python",
   "nbconvert_exporter": "python",
   "pygments_lexer": "ipython3",
   "version": "3.11.7"
  }
 },
 "nbformat": 4,
 "nbformat_minor": 2
}
